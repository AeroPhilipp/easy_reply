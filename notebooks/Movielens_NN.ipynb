{
 "cells": [
  {
   "cell_type": "code",
   "execution_count": 1,
   "id": "dacf4374-d65c-4e9d-871b-c9614e6f0533",
   "metadata": {
    "scrolled": true
   },
   "outputs": [
    {
     "name": "stderr",
     "output_type": "stream",
     "text": [
      "/tmp/ipykernel_1038/1142746155.py:2: DeprecationWarning: \n",
      "Pyarrow will become a required dependency of pandas in the next major release of pandas (pandas 3.0),\n",
      "(to allow more performant data types, such as the Arrow string type, and better interoperability with other libraries)\n",
      "but was not found to be installed on your system.\n",
      "If this would cause problems for you,\n",
      "please provide us feedback at https://github.com/pandas-dev/pandas/issues/54466\n",
      "        \n",
      "  import pandas as pd\n"
     ]
    }
   ],
   "source": [
    "import numpy as np\n",
    "import pandas as pd\n",
    "import os, time, re\n",
    "import pickle, gzip, datetime\n",
    "\n",
    "from datetime import datetime\n",
    "\n",
    "now = datetime.now()\n",
    "\n",
    "import matplotlib.pyplot as plt\n",
    "import seaborn as sns\n",
    "color = sns.color_palette()\n",
    "import matplotlib as mpl\n",
    "%matplotlib inline\n",
    "\n",
    "\n",
    "from sklearn import preprocessing as pp\n",
    "from sklearn.model_selection import train_test_split\n",
    "from sklearn.model_selection import StratifiedKFold\n",
    "from sklearn.metrics import log_loss\n",
    "from sklearn.metrics import precision_recall_curve, average_precision_score\n",
    "from sklearn.metrics import roc_curve, auc, roc_auc_score, mean_squared_error\n"
   ]
  },
  {
   "cell_type": "code",
   "execution_count": 3,
   "id": "c5787477-a9f2-4beb-b983-c6e6a8ffe884",
   "metadata": {},
   "outputs": [],
   "source": [
    "ratingDF = pd.read_csv('../raw_data/ratings.csv')"
   ]
  },
  {
   "cell_type": "code",
   "execution_count": 4,
   "id": "af9942d0-5cba-426b-8f3d-7e018646f9a0",
   "metadata": {},
   "outputs": [],
   "source": [
    "ratingDF.userId = ratingDF.userId.astype(str).astype(int)\n",
    "ratingDF.movieId = ratingDF.movieId.astype(str).astype(int)\n",
    "ratingDF.rating = ratingDF.rating.astype(str).astype(float)\n",
    "ratingDF.timestamp = ratingDF.timestamp.apply(lambda x: now.strftime(\"%m/%d/%Y, %H:%M:%S\"))"
   ]
  },
  {
   "cell_type": "code",
   "execution_count": 5,
   "id": "b1c62d5c-860c-489b-b257-a14b41985be9",
   "metadata": {},
   "outputs": [
    {
     "data": {
      "text/html": [
       "<div>\n",
       "<style scoped>\n",
       "    .dataframe tbody tr th:only-of-type {\n",
       "        vertical-align: middle;\n",
       "    }\n",
       "\n",
       "    .dataframe tbody tr th {\n",
       "        vertical-align: top;\n",
       "    }\n",
       "\n",
       "    .dataframe thead th {\n",
       "        text-align: right;\n",
       "    }\n",
       "</style>\n",
       "<table border=\"1\" class=\"dataframe\">\n",
       "  <thead>\n",
       "    <tr style=\"text-align: right;\">\n",
       "      <th></th>\n",
       "      <th>userId</th>\n",
       "      <th>movieId</th>\n",
       "      <th>rating</th>\n",
       "      <th>timestamp</th>\n",
       "    </tr>\n",
       "  </thead>\n",
       "  <tbody>\n",
       "    <tr>\n",
       "      <th>0</th>\n",
       "      <td>1</td>\n",
       "      <td>1</td>\n",
       "      <td>4.0</td>\n",
       "      <td>02/07/2024, 10:19:12</td>\n",
       "    </tr>\n",
       "    <tr>\n",
       "      <th>1</th>\n",
       "      <td>1</td>\n",
       "      <td>3</td>\n",
       "      <td>4.0</td>\n",
       "      <td>02/07/2024, 10:19:12</td>\n",
       "    </tr>\n",
       "    <tr>\n",
       "      <th>2</th>\n",
       "      <td>1</td>\n",
       "      <td>6</td>\n",
       "      <td>4.0</td>\n",
       "      <td>02/07/2024, 10:19:12</td>\n",
       "    </tr>\n",
       "    <tr>\n",
       "      <th>3</th>\n",
       "      <td>1</td>\n",
       "      <td>47</td>\n",
       "      <td>5.0</td>\n",
       "      <td>02/07/2024, 10:19:12</td>\n",
       "    </tr>\n",
       "    <tr>\n",
       "      <th>4</th>\n",
       "      <td>1</td>\n",
       "      <td>50</td>\n",
       "      <td>5.0</td>\n",
       "      <td>02/07/2024, 10:19:12</td>\n",
       "    </tr>\n",
       "  </tbody>\n",
       "</table>\n",
       "</div>"
      ],
      "text/plain": [
       "   userId  movieId  rating             timestamp\n",
       "0       1        1     4.0  02/07/2024, 10:19:12\n",
       "1       1        3     4.0  02/07/2024, 10:19:12\n",
       "2       1        6     4.0  02/07/2024, 10:19:12\n",
       "3       1       47     5.0  02/07/2024, 10:19:12\n",
       "4       1       50     5.0  02/07/2024, 10:19:12"
      ]
     },
     "execution_count": 5,
     "metadata": {},
     "output_type": "execute_result"
    }
   ],
   "source": [
    "ratingDF.head()"
   ]
  },
  {
   "cell_type": "code",
   "execution_count": 6,
   "id": "8d13e9ab-156b-49f8-abb3-d50d686ed76b",
   "metadata": {},
   "outputs": [
    {
     "data": {
      "text/plain": [
       "userId       43734\n",
       "movieId      43734\n",
       "rating       43734\n",
       "timestamp    43734\n",
       "dtype: int64"
      ]
     },
     "execution_count": 6,
     "metadata": {},
     "output_type": "execute_result"
    }
   ],
   "source": [
    "movieIndex = ratingDF.groupby(\"movieId\").count().sort_values(by= \\\n",
    "\"rating\",ascending=False)[0:500].index\n",
    "ratingDFX2 = ratingDF[ratingDF.movieId.isin(movieIndex)]\n",
    "ratingDFX2.count()"
   ]
  },
  {
   "cell_type": "code",
   "execution_count": 7,
   "id": "c4233e12-be78-431d-90b8-3fd2b87a4bc8",
   "metadata": {},
   "outputs": [
    {
     "data": {
      "text/html": [
       "<div>\n",
       "<style scoped>\n",
       "    .dataframe tbody tr th:only-of-type {\n",
       "        vertical-align: middle;\n",
       "    }\n",
       "\n",
       "    .dataframe tbody tr th {\n",
       "        vertical-align: top;\n",
       "    }\n",
       "\n",
       "    .dataframe thead th {\n",
       "        text-align: right;\n",
       "    }\n",
       "</style>\n",
       "<table border=\"1\" class=\"dataframe\">\n",
       "  <thead>\n",
       "    <tr style=\"text-align: right;\">\n",
       "      <th></th>\n",
       "      <th>userId</th>\n",
       "      <th>movieId</th>\n",
       "      <th>rating</th>\n",
       "      <th>timestamp</th>\n",
       "    </tr>\n",
       "  </thead>\n",
       "  <tbody>\n",
       "    <tr>\n",
       "      <th>0</th>\n",
       "      <td>1</td>\n",
       "      <td>1</td>\n",
       "      <td>4.0</td>\n",
       "      <td>02/07/2024, 10:19:12</td>\n",
       "    </tr>\n",
       "    <tr>\n",
       "      <th>1</th>\n",
       "      <td>1</td>\n",
       "      <td>3</td>\n",
       "      <td>4.0</td>\n",
       "      <td>02/07/2024, 10:19:12</td>\n",
       "    </tr>\n",
       "    <tr>\n",
       "      <th>2</th>\n",
       "      <td>1</td>\n",
       "      <td>6</td>\n",
       "      <td>4.0</td>\n",
       "      <td>02/07/2024, 10:19:12</td>\n",
       "    </tr>\n",
       "    <tr>\n",
       "      <th>3</th>\n",
       "      <td>1</td>\n",
       "      <td>47</td>\n",
       "      <td>5.0</td>\n",
       "      <td>02/07/2024, 10:19:12</td>\n",
       "    </tr>\n",
       "    <tr>\n",
       "      <th>4</th>\n",
       "      <td>1</td>\n",
       "      <td>50</td>\n",
       "      <td>5.0</td>\n",
       "      <td>02/07/2024, 10:19:12</td>\n",
       "    </tr>\n",
       "  </tbody>\n",
       "</table>\n",
       "</div>"
      ],
      "text/plain": [
       "   userId  movieId  rating             timestamp\n",
       "0       1        1     4.0  02/07/2024, 10:19:12\n",
       "1       1        3     4.0  02/07/2024, 10:19:12\n",
       "2       1        6     4.0  02/07/2024, 10:19:12\n",
       "3       1       47     5.0  02/07/2024, 10:19:12\n",
       "4       1       50     5.0  02/07/2024, 10:19:12"
      ]
     },
     "execution_count": 7,
     "metadata": {},
     "output_type": "execute_result"
    }
   ],
   "source": [
    "ratingDFX2.head()"
   ]
  },
  {
   "cell_type": "code",
   "execution_count": 8,
   "id": "68c82238-e219-4f83-b3ed-b99cf47824f7",
   "metadata": {},
   "outputs": [
    {
     "data": {
      "text/plain": [
       "userId       36416\n",
       "movieId      36416\n",
       "rating       36416\n",
       "timestamp    36416\n",
       "dtype: int64"
      ]
     },
     "execution_count": 8,
     "metadata": {},
     "output_type": "execute_result"
    }
   ],
   "source": [
    "userIndex = ratingDFX2.groupby(\"userId\").count().sort_values(by= \\\n",
    "\"rating\",ascending=False).sample(n=500, random_state=2018).index\n",
    "ratingDFX3 = ratingDFX2[ratingDFX2.userId.isin(userIndex)]\n",
    "ratingDFX3.count()"
   ]
  },
  {
   "cell_type": "code",
   "execution_count": 88,
   "id": "e81a2331-d927-42ef-a92f-24804981cfff",
   "metadata": {},
   "outputs": [
    {
     "data": {
      "text/plain": [
       "610"
      ]
     },
     "execution_count": 88,
     "metadata": {},
     "output_type": "execute_result"
    }
   ],
   "source": [
    "max(ratingDFX3.userId)"
   ]
  },
  {
   "cell_type": "code",
   "execution_count": 10,
   "id": "7e72520c-a342-4c89-99a5-129f11c1adde",
   "metadata": {},
   "outputs": [],
   "source": [
    "X_train, X_test = train_test_split(ratingDFX3,\n",
    "test_size=0.10, shuffle=True, random_state=2018)\n",
    "X_validation, X_test = train_test_split(X_test,\n",
    "test_size=0.50, shuffle=True, random_state=2018)"
   ]
  },
  {
   "cell_type": "code",
   "execution_count": 11,
   "id": "74a47b61-1e80-4e1c-b334-dcc83aa83965",
   "metadata": {},
   "outputs": [
    {
     "data": {
      "text/html": [
       "<div>\n",
       "<style scoped>\n",
       "    .dataframe tbody tr th:only-of-type {\n",
       "        vertical-align: middle;\n",
       "    }\n",
       "\n",
       "    .dataframe tbody tr th {\n",
       "        vertical-align: top;\n",
       "    }\n",
       "\n",
       "    .dataframe thead th {\n",
       "        text-align: right;\n",
       "    }\n",
       "</style>\n",
       "<table border=\"1\" class=\"dataframe\">\n",
       "  <thead>\n",
       "    <tr style=\"text-align: right;\">\n",
       "      <th></th>\n",
       "      <th>userId</th>\n",
       "      <th>movieId</th>\n",
       "      <th>rating</th>\n",
       "      <th>timestamp</th>\n",
       "    </tr>\n",
       "  </thead>\n",
       "  <tbody>\n",
       "    <tr>\n",
       "      <th>5691</th>\n",
       "      <td>41</td>\n",
       "      <td>1307</td>\n",
       "      <td>3.5</td>\n",
       "      <td>02/07/2024, 10:19:12</td>\n",
       "    </tr>\n",
       "    <tr>\n",
       "      <th>66065</th>\n",
       "      <td>425</td>\n",
       "      <td>2692</td>\n",
       "      <td>4.0</td>\n",
       "      <td>02/07/2024, 10:19:12</td>\n",
       "    </tr>\n",
       "    <tr>\n",
       "      <th>15124</th>\n",
       "      <td>97</td>\n",
       "      <td>1961</td>\n",
       "      <td>2.0</td>\n",
       "      <td>02/07/2024, 10:19:12</td>\n",
       "    </tr>\n",
       "    <tr>\n",
       "      <th>88919</th>\n",
       "      <td>573</td>\n",
       "      <td>58559</td>\n",
       "      <td>5.0</td>\n",
       "      <td>02/07/2024, 10:19:12</td>\n",
       "    </tr>\n",
       "    <tr>\n",
       "      <th>64515</th>\n",
       "      <td>414</td>\n",
       "      <td>45447</td>\n",
       "      <td>3.0</td>\n",
       "      <td>02/07/2024, 10:19:12</td>\n",
       "    </tr>\n",
       "    <tr>\n",
       "      <th>...</th>\n",
       "      <td>...</td>\n",
       "      <td>...</td>\n",
       "      <td>...</td>\n",
       "      <td>...</td>\n",
       "    </tr>\n",
       "    <tr>\n",
       "      <th>48927</th>\n",
       "      <td>317</td>\n",
       "      <td>70286</td>\n",
       "      <td>2.0</td>\n",
       "      <td>02/07/2024, 10:19:12</td>\n",
       "    </tr>\n",
       "    <tr>\n",
       "      <th>98500</th>\n",
       "      <td>607</td>\n",
       "      <td>353</td>\n",
       "      <td>3.0</td>\n",
       "      <td>02/07/2024, 10:19:12</td>\n",
       "    </tr>\n",
       "    <tr>\n",
       "      <th>25583</th>\n",
       "      <td>177</td>\n",
       "      <td>54001</td>\n",
       "      <td>5.0</td>\n",
       "      <td>02/07/2024, 10:19:12</td>\n",
       "    </tr>\n",
       "    <tr>\n",
       "      <th>50723</th>\n",
       "      <td>328</td>\n",
       "      <td>1196</td>\n",
       "      <td>5.0</td>\n",
       "      <td>02/07/2024, 10:19:12</td>\n",
       "    </tr>\n",
       "    <tr>\n",
       "      <th>36334</th>\n",
       "      <td>248</td>\n",
       "      <td>4306</td>\n",
       "      <td>3.5</td>\n",
       "      <td>02/07/2024, 10:19:12</td>\n",
       "    </tr>\n",
       "  </tbody>\n",
       "</table>\n",
       "<p>32774 rows × 4 columns</p>\n",
       "</div>"
      ],
      "text/plain": [
       "       userId  movieId  rating             timestamp\n",
       "5691       41     1307     3.5  02/07/2024, 10:19:12\n",
       "66065     425     2692     4.0  02/07/2024, 10:19:12\n",
       "15124      97     1961     2.0  02/07/2024, 10:19:12\n",
       "88919     573    58559     5.0  02/07/2024, 10:19:12\n",
       "64515     414    45447     3.0  02/07/2024, 10:19:12\n",
       "...       ...      ...     ...                   ...\n",
       "48927     317    70286     2.0  02/07/2024, 10:19:12\n",
       "98500     607      353     3.0  02/07/2024, 10:19:12\n",
       "25583     177    54001     5.0  02/07/2024, 10:19:12\n",
       "50723     328     1196     5.0  02/07/2024, 10:19:12\n",
       "36334     248     4306     3.5  02/07/2024, 10:19:12\n",
       "\n",
       "[32774 rows x 4 columns]"
      ]
     },
     "execution_count": 11,
     "metadata": {},
     "output_type": "execute_result"
    }
   ],
   "source": [
    "X_train"
   ]
  },
  {
   "cell_type": "code",
   "execution_count": 12,
   "id": "be6fa49d-95bd-43ac-9a8d-c463f8aedee2",
   "metadata": {},
   "outputs": [],
   "source": [
    "n_users = ratingDFX3.userId.unique().shape[0] + 1\n",
    "n_movies = ratingDFX3.movieId.unique().shape[0]\n",
    "n_ratings = len(ratingDFX3)\n",
    "avg_ratings_per_user = n_ratings/n_users"
   ]
  },
  {
   "cell_type": "code",
   "execution_count": 13,
   "id": "33a6b432-1a60-4668-8702-22fc0038e917",
   "metadata": {},
   "outputs": [],
   "source": [
    "ratings_train = np.zeros((n_users, n_movies))"
   ]
  },
  {
   "cell_type": "code",
   "execution_count": 14,
   "id": "9041c068-ea82-457f-b7ab-6525de927eeb",
   "metadata": {},
   "outputs": [
    {
     "data": {
      "text/plain": [
       "array([[0., 0., 0., ..., 0., 0., 0.],\n",
       "       [0., 0., 0., ..., 0., 0., 0.],\n",
       "       [0., 0., 0., ..., 0., 0., 0.],\n",
       "       ...,\n",
       "       [0., 0., 0., ..., 0., 0., 0.],\n",
       "       [0., 0., 0., ..., 0., 0., 0.],\n",
       "       [0., 0., 0., ..., 0., 0., 0.]])"
      ]
     },
     "execution_count": 14,
     "metadata": {},
     "output_type": "execute_result"
    }
   ],
   "source": [
    "ratings_train"
   ]
  },
  {
   "cell_type": "code",
   "execution_count": 15,
   "id": "a5e207b5-f9ae-4708-b341-84de67c4b35b",
   "metadata": {},
   "outputs": [],
   "source": [
    "X_train['user_index'] = X_train['userId'].apply(lambda x: list(ratingDFX3.userId.unique()).index(x))\n",
    "X_train['movie_index'] = X_train['movieId'].apply(lambda x: list(ratingDFX3.movieId.unique()).index(x))\n"
   ]
  },
  {
   "cell_type": "code",
   "execution_count": 16,
   "id": "b04590c0-1147-4cff-beb8-4e0500ec5842",
   "metadata": {},
   "outputs": [],
   "source": [
    "for index, row in X_train.iterrows():\n",
    "    ratings_train[row['user_index'], row['movie_index']] = row['rating']"
   ]
  },
  {
   "cell_type": "code",
   "execution_count": 17,
   "id": "1057fd99-e076-412b-9276-08b2aeaee9d7",
   "metadata": {},
   "outputs": [],
   "source": [
    "X_validation['user_index'] = X_validation['userId'].apply(lambda x: list(ratingDFX3.userId.unique()).index(x))\n",
    "X_validation['movie_index'] = X_validation['movieId'].apply(lambda x: list(ratingDFX3.movieId.unique()).index(x))"
   ]
  },
  {
   "cell_type": "code",
   "execution_count": 18,
   "id": "7723e82b-5cd0-400e-baec-7a699f186f3f",
   "metadata": {},
   "outputs": [],
   "source": [
    "X_test['user_index'] = X_test['userId'].apply(lambda x: list(ratingDFX3.userId.unique()).index(x))\n",
    "X_test['movie_index'] = X_test['movieId'].apply(lambda x: list(ratingDFX3.movieId.unique()).index(x))"
   ]
  },
  {
   "cell_type": "code",
   "execution_count": 70,
   "id": "21aa13f4-1ca8-4776-9919-f299d26d1221",
   "metadata": {},
   "outputs": [
    {
     "data": {
      "text/html": [
       "<div>\n",
       "<style scoped>\n",
       "    .dataframe tbody tr th:only-of-type {\n",
       "        vertical-align: middle;\n",
       "    }\n",
       "\n",
       "    .dataframe tbody tr th {\n",
       "        vertical-align: top;\n",
       "    }\n",
       "\n",
       "    .dataframe thead th {\n",
       "        text-align: right;\n",
       "    }\n",
       "</style>\n",
       "<table border=\"1\" class=\"dataframe\">\n",
       "  <thead>\n",
       "    <tr style=\"text-align: right;\">\n",
       "      <th></th>\n",
       "      <th>userId</th>\n",
       "      <th>movieId</th>\n",
       "      <th>rating</th>\n",
       "      <th>timestamp</th>\n",
       "      <th>user_index</th>\n",
       "      <th>movie_index</th>\n",
       "    </tr>\n",
       "  </thead>\n",
       "  <tbody>\n",
       "    <tr>\n",
       "      <th>87135</th>\n",
       "      <td>562</td>\n",
       "      <td>1393</td>\n",
       "      <td>3.5</td>\n",
       "      <td>02/07/2024, 10:19:12</td>\n",
       "      <td>458</td>\n",
       "      <td>493</td>\n",
       "    </tr>\n",
       "    <tr>\n",
       "      <th>81573</th>\n",
       "      <td>517</td>\n",
       "      <td>594</td>\n",
       "      <td>3.5</td>\n",
       "      <td>02/07/2024, 10:19:12</td>\n",
       "      <td>418</td>\n",
       "      <td>245</td>\n",
       "    </tr>\n",
       "    <tr>\n",
       "      <th>11057</th>\n",
       "      <td>68</td>\n",
       "      <td>5418</td>\n",
       "      <td>4.5</td>\n",
       "      <td>02/07/2024, 10:19:12</td>\n",
       "      <td>53</td>\n",
       "      <td>367</td>\n",
       "    </tr>\n",
       "    <tr>\n",
       "      <th>40710</th>\n",
       "      <td>275</td>\n",
       "      <td>1517</td>\n",
       "      <td>3.0</td>\n",
       "      <td>02/07/2024, 10:19:12</td>\n",
       "      <td>220</td>\n",
       "      <td>67</td>\n",
       "    </tr>\n",
       "    <tr>\n",
       "      <th>19095</th>\n",
       "      <td>122</td>\n",
       "      <td>106782</td>\n",
       "      <td>5.0</td>\n",
       "      <td>02/07/2024, 10:19:12</td>\n",
       "      <td>99</td>\n",
       "      <td>135</td>\n",
       "    </tr>\n",
       "    <tr>\n",
       "      <th>...</th>\n",
       "      <td>...</td>\n",
       "      <td>...</td>\n",
       "      <td>...</td>\n",
       "      <td>...</td>\n",
       "      <td>...</td>\n",
       "      <td>...</td>\n",
       "    </tr>\n",
       "    <tr>\n",
       "      <th>87832</th>\n",
       "      <td>567</td>\n",
       "      <td>3114</td>\n",
       "      <td>3.5</td>\n",
       "      <td>02/07/2024, 10:19:12</td>\n",
       "      <td>463</td>\n",
       "      <td>260</td>\n",
       "    </tr>\n",
       "    <tr>\n",
       "      <th>58950</th>\n",
       "      <td>384</td>\n",
       "      <td>3994</td>\n",
       "      <td>4.0</td>\n",
       "      <td>02/07/2024, 10:19:12</td>\n",
       "      <td>315</td>\n",
       "      <td>263</td>\n",
       "    </tr>\n",
       "    <tr>\n",
       "      <th>24187</th>\n",
       "      <td>167</td>\n",
       "      <td>5952</td>\n",
       "      <td>4.5</td>\n",
       "      <td>02/07/2024, 10:19:12</td>\n",
       "      <td>138</td>\n",
       "      <td>281</td>\n",
       "    </tr>\n",
       "    <tr>\n",
       "      <th>45207</th>\n",
       "      <td>298</td>\n",
       "      <td>68954</td>\n",
       "      <td>3.0</td>\n",
       "      <td>02/07/2024, 10:19:12</td>\n",
       "      <td>238</td>\n",
       "      <td>338</td>\n",
       "    </tr>\n",
       "    <tr>\n",
       "      <th>93532</th>\n",
       "      <td>599</td>\n",
       "      <td>2916</td>\n",
       "      <td>3.0</td>\n",
       "      <td>02/07/2024, 10:19:12</td>\n",
       "      <td>489</td>\n",
       "      <td>107</td>\n",
       "    </tr>\n",
       "  </tbody>\n",
       "</table>\n",
       "<p>1821 rows × 6 columns</p>\n",
       "</div>"
      ],
      "text/plain": [
       "       userId  movieId  rating             timestamp  user_index  movie_index\n",
       "87135     562     1393     3.5  02/07/2024, 10:19:12         458          493\n",
       "81573     517      594     3.5  02/07/2024, 10:19:12         418          245\n",
       "11057      68     5418     4.5  02/07/2024, 10:19:12          53          367\n",
       "40710     275     1517     3.0  02/07/2024, 10:19:12         220           67\n",
       "19095     122   106782     5.0  02/07/2024, 10:19:12          99          135\n",
       "...       ...      ...     ...                   ...         ...          ...\n",
       "87832     567     3114     3.5  02/07/2024, 10:19:12         463          260\n",
       "58950     384     3994     4.0  02/07/2024, 10:19:12         315          263\n",
       "24187     167     5952     4.5  02/07/2024, 10:19:12         138          281\n",
       "45207     298    68954     3.0  02/07/2024, 10:19:12         238          338\n",
       "93532     599     2916     3.0  02/07/2024, 10:19:12         489          107\n",
       "\n",
       "[1821 rows x 6 columns]"
      ]
     },
     "execution_count": 70,
     "metadata": {},
     "output_type": "execute_result"
    }
   ],
   "source": [
    "X_test"
   ]
  },
  {
   "cell_type": "code",
   "execution_count": 19,
   "id": "0c698029-8fcf-4940-a6ed-d084869575e7",
   "metadata": {},
   "outputs": [],
   "source": [
    "ratings_validation = np.zeros((n_users, n_movies))\n",
    "for index, row in X_validation.iterrows():\n",
    "    ratings_validation[row['user_index'], row['movie_index']] = row['rating']"
   ]
  },
  {
   "cell_type": "code",
   "execution_count": 18,
   "id": "d6a39c90-6bf8-4825-b599-6fb1e4f0b93a",
   "metadata": {},
   "outputs": [],
   "source": [
    "actual_validation = ratings_validation[ratings_validation.nonzero()].flatten()"
   ]
  },
  {
   "cell_type": "code",
   "execution_count": 19,
   "id": "eb602756-ef8c-486d-9099-2c969cd392f5",
   "metadata": {},
   "outputs": [
    {
     "data": {
      "text/plain": [
       "array([4., 3., 4., ..., 4., 5., 4.])"
      ]
     },
     "execution_count": 19,
     "metadata": {},
     "output_type": "execute_result"
    }
   ],
   "source": [
    "actual_validation"
   ]
  },
  {
   "cell_type": "code",
   "execution_count": 20,
   "id": "c7911df1-b2dc-44cc-8de4-1a669cdb1387",
   "metadata": {},
   "outputs": [
    {
     "data": {
      "text/plain": [
       "array([[3.5],\n",
       "       [3.5],\n",
       "       [3.5],\n",
       "       ...,\n",
       "       [3.5],\n",
       "       [3.5],\n",
       "       [3.5]])"
      ]
     },
     "execution_count": 20,
     "metadata": {},
     "output_type": "execute_result"
    }
   ],
   "source": [
    "pred_validation = np.zeros((len(X_validation),1))\n",
    "pred_validation[pred_validation==0] = 3.5\n",
    "pred_validation"
   ]
  },
  {
   "cell_type": "code",
   "execution_count": 21,
   "id": "fe9186d9-b3c0-4a4e-9d8e-6cdfd88128bf",
   "metadata": {},
   "outputs": [
    {
     "data": {
      "text/plain": [
       "1.0023338824821526"
      ]
     },
     "execution_count": 21,
     "metadata": {},
     "output_type": "execute_result"
    }
   ],
   "source": [
    "mean_squared_error(pred_validation, actual_validation)"
   ]
  },
  {
   "cell_type": "code",
   "execution_count": null,
   "id": "b531843f-ad3b-463a-8afd-1ce9059a1368",
   "metadata": {},
   "outputs": [],
   "source": []
  },
  {
   "cell_type": "code",
   "execution_count": 20,
   "id": "73c7c1a0-d26b-4408-927e-a7c4e67322bd",
   "metadata": {},
   "outputs": [
    {
     "name": "stderr",
     "output_type": "stream",
     "text": [
      "2024-02-07 10:21:37.330658: E external/local_xla/xla/stream_executor/cuda/cuda_dnn.cc:9261] Unable to register cuDNN factory: Attempting to register factory for plugin cuDNN when one has already been registered\n",
      "2024-02-07 10:21:37.330774: E external/local_xla/xla/stream_executor/cuda/cuda_fft.cc:607] Unable to register cuFFT factory: Attempting to register factory for plugin cuFFT when one has already been registered\n",
      "2024-02-07 10:21:37.416058: E external/local_xla/xla/stream_executor/cuda/cuda_blas.cc:1515] Unable to register cuBLAS factory: Attempting to register factory for plugin cuBLAS when one has already been registered\n",
      "2024-02-07 10:21:37.582424: I tensorflow/core/platform/cpu_feature_guard.cc:182] This TensorFlow binary is optimized to use available CPU instructions in performance-critical operations.\n",
      "To enable the following instructions: AVX2 FMA, in other operations, rebuild TensorFlow with the appropriate compiler flags.\n",
      "2024-02-07 10:21:40.050370: W tensorflow/compiler/tf2tensorrt/utils/py_utils.cc:38] TF-TRT Warning: Could not find TensorRT\n"
     ]
    }
   ],
   "source": [
    "import tensorflow as tf\n",
    "import keras\n",
    "\n",
    "from tensorflow.keras.models import Sequential, Model\n",
    "from tensorflow.keras.layers import Activation, Dense, Dropout\n",
    "from tensorflow.keras.layers import BatchNormalization, Input, Lambda\n",
    "from tensorflow.keras.layers import Embedding, Flatten, dot\n",
    "from tensorflow.keras import regularizers\n",
    "from tensorflow.keras.losses import mse, binary_crossentropy"
   ]
  },
  {
   "cell_type": "code",
   "execution_count": 21,
   "id": "af2fe4df-5b00-4b60-ab7f-e118240fb9ff",
   "metadata": {},
   "outputs": [],
   "source": [
    "n_latent_factors = 1\n",
    "user_input = Input(shape=[1], name='user')\n",
    "user_embedding = Embedding(input_dim=n_users + 1, output_dim=n_latent_factors,\n",
    "name='user_embedding')(user_input)\n",
    "user_vec = Flatten(name='flatten_users')(user_embedding)\n",
    "movie_input = Input(shape=[1], name='movie')\n",
    "movie_embedding = Embedding(input_dim=n_movies + 1,\n",
    "output_dim=n_latent_factors,\n",
    "name='movie_embedding')(movie_input)\n",
    "movie_vec = Flatten(name='flatten_movies')(movie_embedding)\n",
    "product = dot([movie_vec, user_vec], axes=1)\n",
    "model = Model(inputs=[user_input, movie_input], outputs=product)\n",
    "model.compile('adam', 'mean_squared_error')"
   ]
  },
  {
   "cell_type": "code",
   "execution_count": 22,
   "id": "bbcbf633-6b24-4d39-bedb-31839b955b67",
   "metadata": {
    "scrolled": true
   },
   "outputs": [
    {
     "name": "stdout",
     "output_type": "stream",
     "text": [
      "Model: \"model\"\n",
      "__________________________________________________________________________________________________\n",
      " Layer (type)                Output Shape                 Param #   Connected to                  \n",
      "==================================================================================================\n",
      " movie (InputLayer)          [(None, 1)]                  0         []                            \n",
      "                                                                                                  \n",
      " user (InputLayer)           [(None, 1)]                  0         []                            \n",
      "                                                                                                  \n",
      " movie_embedding (Embedding  (None, 1, 1)                 501       ['movie[0][0]']               \n",
      " )                                                                                                \n",
      "                                                                                                  \n",
      " user_embedding (Embedding)  (None, 1, 1)                 502       ['user[0][0]']                \n",
      "                                                                                                  \n",
      " flatten_movies (Flatten)    (None, 1)                    0         ['movie_embedding[0][0]']     \n",
      "                                                                                                  \n",
      " flatten_users (Flatten)     (None, 1)                    0         ['user_embedding[0][0]']      \n",
      "                                                                                                  \n",
      " dot (Dot)                   (None, 1)                    0         ['flatten_movies[0][0]',      \n",
      "                                                                     'flatten_users[0][0]']       \n",
      "                                                                                                  \n",
      "==================================================================================================\n",
      "Total params: 1003 (3.92 KB)\n",
      "Trainable params: 1003 (3.92 KB)\n",
      "Non-trainable params: 0 (0.00 Byte)\n",
      "__________________________________________________________________________________________________\n"
     ]
    }
   ],
   "source": [
    "model.summary()"
   ]
  },
  {
   "cell_type": "code",
   "execution_count": 23,
   "id": "5a91f004-a4ad-4d79-ad70-66b4ea725335",
   "metadata": {},
   "outputs": [
    {
     "name": "stdout",
     "output_type": "stream",
     "text": [
      "Epoch 1/100\n",
      "1025/1025 [==============================] - 5s 4ms/step - loss: 14.6389 - val_loss: 14.2235\n",
      "Epoch 2/100\n",
      "1025/1025 [==============================] - 3s 3ms/step - loss: 12.9883 - val_loss: 11.4224\n",
      "Epoch 3/100\n",
      "1025/1025 [==============================] - 4s 4ms/step - loss: 9.7253 - val_loss: 8.0361\n",
      "Epoch 4/100\n",
      "1025/1025 [==============================] - 4s 4ms/step - loss: 6.5168 - val_loss: 5.1994\n",
      "Epoch 5/100\n",
      "1025/1025 [==============================] - 4s 4ms/step - loss: 4.1523 - val_loss: 3.3526\n",
      "Epoch 6/100\n",
      "1025/1025 [==============================] - 4s 4ms/step - loss: 2.7600 - val_loss: 2.3358\n",
      "Epoch 7/100\n",
      "1025/1025 [==============================] - 3s 3ms/step - loss: 2.0009 - val_loss: 1.7566\n",
      "Epoch 8/100\n",
      "1025/1025 [==============================] - 3s 3ms/step - loss: 1.5488 - val_loss: 1.3880\n",
      "Epoch 9/100\n",
      "1025/1025 [==============================] - 3s 3ms/step - loss: 1.2585 - val_loss: 1.1488\n",
      "Epoch 10/100\n",
      "1025/1025 [==============================] - 3s 3ms/step - loss: 1.0676 - val_loss: 0.9915\n",
      "Epoch 11/100\n",
      "1025/1025 [==============================] - 4s 4ms/step - loss: 0.9413 - val_loss: 0.8908\n",
      "Epoch 12/100\n",
      "1025/1025 [==============================] - 4s 4ms/step - loss: 0.8574 - val_loss: 0.8250\n",
      "Epoch 13/100\n",
      "1025/1025 [==============================] - 3s 3ms/step - loss: 0.8010 - val_loss: 0.7828\n",
      "Epoch 14/100\n",
      "1025/1025 [==============================] - 3s 3ms/step - loss: 0.7631 - val_loss: 0.7567\n",
      "Epoch 15/100\n",
      "1025/1025 [==============================] - 4s 3ms/step - loss: 0.7372 - val_loss: 0.7384\n",
      "Epoch 16/100\n",
      "1025/1025 [==============================] - 4s 3ms/step - loss: 0.7195 - val_loss: 0.7258\n",
      "Epoch 17/100\n",
      "1025/1025 [==============================] - 3s 3ms/step - loss: 0.7071 - val_loss: 0.7174\n",
      "Epoch 18/100\n",
      "1025/1025 [==============================] - 3s 3ms/step - loss: 0.6987 - val_loss: 0.7124\n",
      "Epoch 19/100\n",
      "1025/1025 [==============================] - 4s 4ms/step - loss: 0.6926 - val_loss: 0.7084\n",
      "Epoch 20/100\n",
      "1025/1025 [==============================] - 3s 3ms/step - loss: 0.6882 - val_loss: 0.7051\n",
      "Epoch 21/100\n",
      "1025/1025 [==============================] - 3s 3ms/step - loss: 0.6849 - val_loss: 0.7025\n",
      "Epoch 22/100\n",
      "1025/1025 [==============================] - 3s 3ms/step - loss: 0.6825 - val_loss: 0.7004\n",
      "Epoch 23/100\n",
      "1025/1025 [==============================] - 3s 3ms/step - loss: 0.6808 - val_loss: 0.6987\n",
      "Epoch 24/100\n",
      "1025/1025 [==============================] - 3s 3ms/step - loss: 0.6794 - val_loss: 0.6975\n",
      "Epoch 25/100\n",
      "1025/1025 [==============================] - 4s 3ms/step - loss: 0.6782 - val_loss: 0.6964\n",
      "Epoch 26/100\n",
      "1025/1025 [==============================] - 3s 3ms/step - loss: 0.6774 - val_loss: 0.6955\n",
      "Epoch 27/100\n",
      "1025/1025 [==============================] - 4s 4ms/step - loss: 0.6768 - val_loss: 0.6949\n",
      "Epoch 28/100\n",
      "1025/1025 [==============================] - 4s 3ms/step - loss: 0.6762 - val_loss: 0.6940\n",
      "Epoch 29/100\n",
      "1025/1025 [==============================] - 4s 3ms/step - loss: 0.6756 - val_loss: 0.6941\n",
      "Epoch 30/100\n",
      "1025/1025 [==============================] - 3s 3ms/step - loss: 0.6752 - val_loss: 0.6917\n",
      "Epoch 31/100\n",
      "1025/1025 [==============================] - 3s 3ms/step - loss: 0.6750 - val_loss: 0.6914\n",
      "Epoch 32/100\n",
      "1025/1025 [==============================] - 3s 3ms/step - loss: 0.6747 - val_loss: 0.6922\n",
      "Epoch 33/100\n",
      "1025/1025 [==============================] - 3s 3ms/step - loss: 0.6744 - val_loss: 0.6918\n",
      "Epoch 34/100\n",
      "1025/1025 [==============================] - 3s 3ms/step - loss: 0.6743 - val_loss: 0.6898\n",
      "Epoch 35/100\n",
      "1025/1025 [==============================] - 3s 3ms/step - loss: 0.6739 - val_loss: 0.6894\n",
      "Epoch 36/100\n",
      "1025/1025 [==============================] - 3s 3ms/step - loss: 0.6739 - val_loss: 0.6896\n",
      "Epoch 37/100\n",
      "1025/1025 [==============================] - 3s 3ms/step - loss: 0.6737 - val_loss: 0.6891\n",
      "Epoch 38/100\n",
      "1025/1025 [==============================] - 3s 3ms/step - loss: 0.6737 - val_loss: 0.6884\n",
      "Epoch 39/100\n",
      "1025/1025 [==============================] - 3s 3ms/step - loss: 0.6735 - val_loss: 0.6882\n",
      "Epoch 40/100\n",
      "1025/1025 [==============================] - 3s 3ms/step - loss: 0.6734 - val_loss: 0.6893\n",
      "Epoch 41/100\n",
      "1025/1025 [==============================] - 3s 3ms/step - loss: 0.6734 - val_loss: 0.6883\n",
      "Epoch 42/100\n",
      "1025/1025 [==============================] - 3s 3ms/step - loss: 0.6733 - val_loss: 0.6880\n",
      "Epoch 43/100\n",
      "1025/1025 [==============================] - 3s 3ms/step - loss: 0.6732 - val_loss: 0.6873\n",
      "Epoch 44/100\n",
      "1025/1025 [==============================] - 3s 3ms/step - loss: 0.6732 - val_loss: 0.6867\n",
      "Epoch 45/100\n",
      "1025/1025 [==============================] - 3s 3ms/step - loss: 0.6731 - val_loss: 0.6873\n",
      "Epoch 46/100\n",
      "1025/1025 [==============================] - 3s 3ms/step - loss: 0.6731 - val_loss: 0.6875\n",
      "Epoch 47/100\n",
      "1025/1025 [==============================] - 3s 3ms/step - loss: 0.6732 - val_loss: 0.6875\n",
      "Epoch 48/100\n",
      "1025/1025 [==============================] - 3s 3ms/step - loss: 0.6731 - val_loss: 0.6876\n",
      "Epoch 49/100\n",
      "1025/1025 [==============================] - 3s 3ms/step - loss: 0.6731 - val_loss: 0.6872\n",
      "Epoch 50/100\n",
      "1025/1025 [==============================] - 3s 3ms/step - loss: 0.6731 - val_loss: 0.6872\n",
      "Epoch 51/100\n",
      "1025/1025 [==============================] - 3s 3ms/step - loss: 0.6730 - val_loss: 0.6880\n",
      "Epoch 52/100\n",
      "1025/1025 [==============================] - 3s 3ms/step - loss: 0.6730 - val_loss: 0.6872\n",
      "Epoch 53/100\n",
      "1025/1025 [==============================] - 3s 3ms/step - loss: 0.6729 - val_loss: 0.6875\n",
      "Epoch 54/100\n",
      "1025/1025 [==============================] - 3s 3ms/step - loss: 0.6730 - val_loss: 0.6877\n",
      "Epoch 55/100\n",
      "1025/1025 [==============================] - 3s 3ms/step - loss: 0.6730 - val_loss: 0.6873\n",
      "Epoch 56/100\n",
      "1025/1025 [==============================] - 3s 3ms/step - loss: 0.6729 - val_loss: 0.6875\n",
      "Epoch 57/100\n",
      "1025/1025 [==============================] - 3s 3ms/step - loss: 0.6730 - val_loss: 0.6871\n",
      "Epoch 58/100\n",
      "1025/1025 [==============================] - 3s 3ms/step - loss: 0.6729 - val_loss: 0.6873\n",
      "Epoch 59/100\n",
      "1025/1025 [==============================] - 3s 3ms/step - loss: 0.6728 - val_loss: 0.6864\n",
      "Epoch 60/100\n",
      "1025/1025 [==============================] - 3s 3ms/step - loss: 0.6729 - val_loss: 0.6871\n",
      "Epoch 61/100\n",
      "1025/1025 [==============================] - 3s 3ms/step - loss: 0.6729 - val_loss: 0.6869\n",
      "Epoch 62/100\n",
      "1025/1025 [==============================] - 3s 3ms/step - loss: 0.6729 - val_loss: 0.6870\n",
      "Epoch 63/100\n",
      "1025/1025 [==============================] - 3s 3ms/step - loss: 0.6730 - val_loss: 0.6871\n",
      "Epoch 64/100\n",
      "1025/1025 [==============================] - 3s 3ms/step - loss: 0.6729 - val_loss: 0.6866\n",
      "Epoch 65/100\n",
      "1025/1025 [==============================] - 3s 3ms/step - loss: 0.6728 - val_loss: 0.6866\n",
      "Epoch 66/100\n",
      "1025/1025 [==============================] - 3s 3ms/step - loss: 0.6729 - val_loss: 0.6867\n",
      "Epoch 67/100\n",
      "1025/1025 [==============================] - 3s 3ms/step - loss: 0.6729 - val_loss: 0.6869\n",
      "Epoch 68/100\n",
      "1025/1025 [==============================] - 3s 3ms/step - loss: 0.6729 - val_loss: 0.6875\n",
      "Epoch 69/100\n",
      "1025/1025 [==============================] - 3s 3ms/step - loss: 0.6729 - val_loss: 0.6874\n",
      "Epoch 70/100\n",
      "1025/1025 [==============================] - 3s 3ms/step - loss: 0.6728 - val_loss: 0.6877\n",
      "Epoch 71/100\n",
      "1025/1025 [==============================] - 3s 3ms/step - loss: 0.6729 - val_loss: 0.6870\n",
      "Epoch 72/100\n",
      "1025/1025 [==============================] - 3s 3ms/step - loss: 0.6729 - val_loss: 0.6865\n",
      "Epoch 73/100\n",
      "1025/1025 [==============================] - 3s 3ms/step - loss: 0.6729 - val_loss: 0.6861\n",
      "Epoch 74/100\n",
      "1025/1025 [==============================] - 3s 3ms/step - loss: 0.6729 - val_loss: 0.6862\n",
      "Epoch 75/100\n",
      "1025/1025 [==============================] - 3s 3ms/step - loss: 0.6729 - val_loss: 0.6870\n",
      "Epoch 76/100\n",
      "1025/1025 [==============================] - 3s 3ms/step - loss: 0.6728 - val_loss: 0.6866\n",
      "Epoch 77/100\n",
      "1025/1025 [==============================] - 4s 3ms/step - loss: 0.6728 - val_loss: 0.6866\n",
      "Epoch 78/100\n",
      "1025/1025 [==============================] - 3s 3ms/step - loss: 0.6729 - val_loss: 0.6864\n",
      "Epoch 79/100\n",
      "1025/1025 [==============================] - 3s 3ms/step - loss: 0.6729 - val_loss: 0.6869\n",
      "Epoch 80/100\n",
      "1025/1025 [==============================] - 3s 3ms/step - loss: 0.6729 - val_loss: 0.6874\n",
      "Epoch 81/100\n",
      "1025/1025 [==============================] - 3s 3ms/step - loss: 0.6728 - val_loss: 0.6874\n",
      "Epoch 82/100\n",
      "1025/1025 [==============================] - 3s 3ms/step - loss: 0.6728 - val_loss: 0.6870\n",
      "Epoch 83/100\n",
      "1025/1025 [==============================] - 3s 3ms/step - loss: 0.6729 - val_loss: 0.6865\n",
      "Epoch 84/100\n",
      "1025/1025 [==============================] - 3s 3ms/step - loss: 0.6728 - val_loss: 0.6873\n",
      "Epoch 85/100\n",
      "1025/1025 [==============================] - 3s 3ms/step - loss: 0.6728 - val_loss: 0.6872\n",
      "Epoch 86/100\n",
      "1025/1025 [==============================] - 3s 3ms/step - loss: 0.6729 - val_loss: 0.6872\n",
      "Epoch 87/100\n",
      "1025/1025 [==============================] - 3s 3ms/step - loss: 0.6728 - val_loss: 0.6858\n",
      "Epoch 88/100\n",
      "1025/1025 [==============================] - 3s 3ms/step - loss: 0.6729 - val_loss: 0.6861\n",
      "Epoch 89/100\n",
      "1025/1025 [==============================] - 4s 3ms/step - loss: 0.6729 - val_loss: 0.6873\n",
      "Epoch 90/100\n",
      "1025/1025 [==============================] - 4s 3ms/step - loss: 0.6728 - val_loss: 0.6872\n",
      "Epoch 91/100\n",
      "1025/1025 [==============================] - 4s 3ms/step - loss: 0.6729 - val_loss: 0.6871\n",
      "Epoch 92/100\n",
      "1025/1025 [==============================] - 3s 3ms/step - loss: 0.6729 - val_loss: 0.6877\n",
      "Epoch 93/100\n",
      "1025/1025 [==============================] - 3s 3ms/step - loss: 0.6729 - val_loss: 0.6874\n",
      "Epoch 94/100\n",
      "1025/1025 [==============================] - 3s 3ms/step - loss: 0.6730 - val_loss: 0.6876\n",
      "Epoch 95/100\n",
      "1025/1025 [==============================] - 3s 3ms/step - loss: 0.6730 - val_loss: 0.6877\n",
      "Epoch 96/100\n",
      "1025/1025 [==============================] - 3s 3ms/step - loss: 0.6730 - val_loss: 0.6862\n",
      "Epoch 97/100\n",
      "1025/1025 [==============================] - 3s 3ms/step - loss: 0.6728 - val_loss: 0.6871\n",
      "Epoch 98/100\n",
      "1025/1025 [==============================] - 3s 3ms/step - loss: 0.6729 - val_loss: 0.6877\n",
      "Epoch 99/100\n",
      "1025/1025 [==============================] - 3s 3ms/step - loss: 0.6729 - val_loss: 0.6874\n",
      "Epoch 100/100\n",
      "1025/1025 [==============================] - 3s 3ms/step - loss: 0.6729 - val_loss: 0.6872\n"
     ]
    }
   ],
   "source": [
    "history = model.fit(x=[X_train.user_index, X_train.movie_index],\n",
    "                    y=X_train.rating, epochs=100,\n",
    "                    validation_data=([X_validation.user_index,\n",
    "                                      X_validation.movie_index], X_validation.rating),\n",
    "                    verbose=1)"
   ]
  },
  {
   "cell_type": "code",
   "execution_count": null,
   "id": "1c1cd577-17f6-403b-9e53-9f49aacc8067",
   "metadata": {},
   "outputs": [],
   "source": []
  },
  {
   "cell_type": "code",
   "execution_count": 26,
   "id": "9e24f08c-c913-4d3a-9d97-856f55e5663d",
   "metadata": {
    "scrolled": true
   },
   "outputs": [
    {
     "name": "stdout",
     "output_type": "stream",
     "text": [
      "Minimum MSE:  0.6852520108222961\n"
     ]
    },
    {
     "data": {
      "image/png": "[encoded data removed]",
      "text/plain": [
       "<Figure size 640x480 with 1 Axes>"
      ]
     },
     "metadata": {},
     "output_type": "display_data"
    }
   ],
   "source": [
    "pd.Series(history.history['val_loss'][10:]).plot(logy=False)\n",
    "plt.xlabel(\"Epoch\")\n",
    "plt.ylabel(\"Validation Error\")\n",
    "print('Minimum MSE: ', min(history.history['val_loss']))"
   ]
  },
  {
   "cell_type": "code",
   "execution_count": 67,
   "id": "64615d38-8aa3-498e-a823-329de8965cae",
   "metadata": {},
   "outputs": [
    {
     "data": {
      "text/plain": [
       "array([0., 0., 0., 0., 0., 0., 0., 0., 0., 0., 0., 0., 0., 0., 0., 0., 0.,\n",
       "       0., 0., 0., 0., 0., 0., 0., 0., 0., 0., 0., 0., 0., 0., 0., 0., 0.,\n",
       "       0., 0., 0., 0., 0., 0., 0., 0., 0., 0., 0., 0., 0., 0., 0., 0., 0.,\n",
       "       0., 0., 0., 0., 0., 0., 0., 0., 0., 0., 0., 0., 0., 0., 0., 0., 0.,\n",
       "       0., 0., 0., 0., 0., 0., 0., 0., 0., 0., 0., 0., 0., 0., 0., 0., 0.,\n",
       "       0., 0., 0., 0., 0., 0., 0., 0., 0., 0., 0., 0., 0., 0., 0., 0., 0.,\n",
       "       0., 0., 0., 0., 0., 0., 0., 0., 0., 0., 0., 0., 0., 0., 0., 0., 0.,\n",
       "       0., 0., 0., 0., 0., 0., 0., 0., 0., 0., 0., 0., 0., 0., 0., 0., 0.,\n",
       "       0., 0., 0., 0., 0., 0., 0., 0., 0., 0., 0., 0., 0., 0., 0., 0., 0.,\n",
       "       0., 0., 0., 0., 0., 0., 0., 0., 0., 0., 0., 0., 0., 0., 0., 0., 0.,\n",
       "       0., 0., 0., 0., 0., 0., 0., 0., 0., 0., 0., 0., 0., 0., 0., 0., 0.,\n",
       "       0., 0., 0., 0., 0., 0., 0., 0., 0., 0., 0., 0., 0., 0., 0., 0., 0.,\n",
       "       0., 0., 0., 0., 0., 0., 0., 0., 0., 0., 0., 0., 0., 0., 0., 0., 0.,\n",
       "       0., 0., 0., 0., 0., 0., 0., 0., 0., 0., 0., 0., 0., 0., 0., 0., 0.,\n",
       "       0., 0., 0., 0., 0., 0., 0., 0., 0., 0., 0., 0., 0., 0., 0., 0., 0.,\n",
       "       0., 0., 0., 0., 0., 0., 0., 0., 0., 0., 0., 0., 0., 0., 0., 0., 0.,\n",
       "       0., 0., 0., 0., 0., 0., 0., 0., 0., 0., 0., 0., 0., 0., 0., 0., 0.,\n",
       "       0., 0., 0., 0., 0., 0., 0., 0., 0., 0., 0., 0., 0., 0., 0., 0., 0.,\n",
       "       0., 0., 0., 0., 0., 0., 0., 0., 0., 0., 0., 0., 0., 0., 0., 0., 0.,\n",
       "       0., 0., 0., 0., 0., 0., 0., 0., 0., 0., 0., 0., 0., 0., 0., 0., 0.,\n",
       "       0., 0., 0., 0., 0., 0., 0., 0., 0., 0., 0., 0., 0., 0., 0., 0., 0.,\n",
       "       0., 0., 0., 0., 0., 0., 0., 0., 0., 0., 0., 0., 0., 0., 0., 0., 0.,\n",
       "       0., 0., 0., 0., 0., 0., 0., 0., 0., 0., 0., 0., 0., 0., 0., 0., 0.,\n",
       "       0., 0., 0., 0., 0., 0., 0., 0., 0., 0., 0., 0., 0., 0., 0., 0., 0.,\n",
       "       0., 0., 0., 0., 0., 0., 0., 0., 0., 0., 0., 0., 0., 0., 0., 0., 0.,\n",
       "       0., 0., 0., 0., 0., 0., 0., 0., 0., 0., 0., 0., 0., 0., 0., 0., 0.,\n",
       "       0., 0., 0., 0., 0., 0., 0., 0., 0., 0., 0., 0., 0., 0., 0., 0., 0.,\n",
       "       0., 0., 0., 0., 0., 0., 0., 0., 0., 0., 0., 0., 0., 0., 0., 0., 0.,\n",
       "       0., 0., 0., 0., 0., 0., 0., 0., 0., 0., 0., 0., 0., 0., 0., 0., 0.,\n",
       "       0., 0., 0., 0., 0., 0., 0.])"
      ]
     },
     "execution_count": 67,
     "metadata": {},
     "output_type": "execute_result"
    }
   ],
   "source": [
    "ratings_train[500, :]"
   ]
  },
  {
   "cell_type": "code",
   "execution_count": 48,
   "id": "c622af41-cc67-4faf-972e-b528b6fb31c6",
   "metadata": {},
   "outputs": [
    {
     "name": "stdout",
     "output_type": "stream",
     "text": [
      "57/57 [==============================] - 0s 3ms/step\n"
     ]
    }
   ],
   "source": [
    "y_pred = model.predict([X_test.user_index, X_test.movie_index])"
   ]
  },
  {
   "cell_type": "code",
   "execution_count": 49,
   "id": "88eb7cbf-f6ae-4f85-865a-d52631cc4981",
   "metadata": {},
   "outputs": [
    {
     "data": {
      "text/plain": [
       "array([[3.8304446],\n",
       "       [2.41908  ],\n",
       "       [3.4789915],\n",
       "       ...,\n",
       "       [3.9205272],\n",
       "       [3.2593176],\n",
       "       [3.1891346]], dtype=float32)"
      ]
     },
     "execution_count": 49,
     "metadata": {},
     "output_type": "execute_result"
    }
   ],
   "source": [
    "y_pred"
   ]
  },
  {
   "cell_type": "code",
   "execution_count": 37,
   "id": "7fb137f3-ca8c-4389-a9bc-dac0f5319839",
   "metadata": {},
   "outputs": [
    {
     "data": {
      "text/plain": [
       "0.6956618175593245"
      ]
     },
     "execution_count": 37,
     "metadata": {},
     "output_type": "execute_result"
    }
   ],
   "source": [
    "mean_squared_error(X_test.rating, y_pred)"
   ]
  },
  {
   "cell_type": "code",
   "execution_count": 25,
   "id": "e59e0a3f-727f-4572-a69b-0322ee4fe1b9",
   "metadata": {
    "scrolled": true
   },
   "outputs": [
    {
     "data": {
      "text/plain": [
       "(1821,)"
      ]
     },
     "execution_count": 25,
     "metadata": {},
     "output_type": "execute_result"
    }
   ],
   "source": [
    "X_test.user_index.shape"
   ]
  },
  {
   "cell_type": "code",
   "execution_count": 50,
   "id": "6f7a498c-63f4-43b1-8166-7c923c7fbade",
   "metadata": {},
   "outputs": [],
   "source": [
    "new_user = np.full((len(ratingDFX3.movieId.unique()),), 501)"
   ]
  },
  {
   "cell_type": "code",
   "execution_count": 55,
   "id": "18e286ae-862d-4398-8875-b3ee3a4968c2",
   "metadata": {},
   "outputs": [],
   "source": [
    "new_movies = np.linspace(0,500,num=500)"
   ]
  },
  {
   "cell_type": "code",
   "execution_count": 75,
   "id": "665d832c-76fe-470a-a85b-6de241a9e821",
   "metadata": {},
   "outputs": [],
   "source": [
    "X_new = X_train[0:20]"
   ]
  },
  {
   "cell_type": "code",
   "execution_count": 82,
   "id": "968d7efe-defb-4b88-b712-aa3fa1f8c122",
   "metadata": {},
   "outputs": [
    {
     "name": "stderr",
     "output_type": "stream",
     "text": [
      "/tmp/ipykernel_1038/137201578.py:1: SettingWithCopyWarning: \n",
      "A value is trying to be set on a copy of a slice from a DataFrame.\n",
      "Try using .loc[row_indexer,col_indexer] = value instead\n",
      "\n",
      "See the caveats in the documentation: https://pandas.pydata.org/pandas-docs/stable/user_guide/indexing.html#returning-a-view-versus-a-copy\n",
      "  X_new['user_index'] = 499\n"
     ]
    }
   ],
   "source": [
    "X_new['user_index'] = 499"
   ]
  },
  {
   "cell_type": "code",
   "execution_count": 83,
   "id": "0ba86094-35e3-4497-ae1c-19b6e9fa8b8b",
   "metadata": {},
   "outputs": [],
   "source": [
    "X_test = pd.concat([X_test, X_new])"
   ]
  },
  {
   "cell_type": "code",
   "execution_count": 84,
   "id": "877715e0-c769-44c3-bb07-dc56d950121e",
   "metadata": {},
   "outputs": [
    {
     "data": {
      "text/html": [
       "<div>\n",
       "<style scoped>\n",
       "    .dataframe tbody tr th:only-of-type {\n",
       "        vertical-align: middle;\n",
       "    }\n",
       "\n",
       "    .dataframe tbody tr th {\n",
       "        vertical-align: top;\n",
       "    }\n",
       "\n",
       "    .dataframe thead th {\n",
       "        text-align: right;\n",
       "    }\n",
       "</style>\n",
       "<table border=\"1\" class=\"dataframe\">\n",
       "  <thead>\n",
       "    <tr style=\"text-align: right;\">\n",
       "      <th></th>\n",
       "      <th>userId</th>\n",
       "      <th>movieId</th>\n",
       "      <th>rating</th>\n",
       "      <th>timestamp</th>\n",
       "      <th>user_index</th>\n",
       "      <th>movie_index</th>\n",
       "    </tr>\n",
       "  </thead>\n",
       "  <tbody>\n",
       "    <tr>\n",
       "      <th>87135</th>\n",
       "      <td>562</td>\n",
       "      <td>1393</td>\n",
       "      <td>3.5</td>\n",
       "      <td>02/07/2024, 10:19:12</td>\n",
       "      <td>458</td>\n",
       "      <td>493</td>\n",
       "    </tr>\n",
       "    <tr>\n",
       "      <th>81573</th>\n",
       "      <td>517</td>\n",
       "      <td>594</td>\n",
       "      <td>3.5</td>\n",
       "      <td>02/07/2024, 10:19:12</td>\n",
       "      <td>418</td>\n",
       "      <td>245</td>\n",
       "    </tr>\n",
       "    <tr>\n",
       "      <th>11057</th>\n",
       "      <td>68</td>\n",
       "      <td>5418</td>\n",
       "      <td>4.5</td>\n",
       "      <td>02/07/2024, 10:19:12</td>\n",
       "      <td>53</td>\n",
       "      <td>367</td>\n",
       "    </tr>\n",
       "    <tr>\n",
       "      <th>40710</th>\n",
       "      <td>275</td>\n",
       "      <td>1517</td>\n",
       "      <td>3.0</td>\n",
       "      <td>02/07/2024, 10:19:12</td>\n",
       "      <td>220</td>\n",
       "      <td>67</td>\n",
       "    </tr>\n",
       "    <tr>\n",
       "      <th>19095</th>\n",
       "      <td>122</td>\n",
       "      <td>106782</td>\n",
       "      <td>5.0</td>\n",
       "      <td>02/07/2024, 10:19:12</td>\n",
       "      <td>99</td>\n",
       "      <td>135</td>\n",
       "    </tr>\n",
       "    <tr>\n",
       "      <th>...</th>\n",
       "      <td>...</td>\n",
       "      <td>...</td>\n",
       "      <td>...</td>\n",
       "      <td>...</td>\n",
       "      <td>...</td>\n",
       "      <td>...</td>\n",
       "    </tr>\n",
       "    <tr>\n",
       "      <th>56858</th>\n",
       "      <td>379</td>\n",
       "      <td>339</td>\n",
       "      <td>3.0</td>\n",
       "      <td>02/07/2024, 10:19:12</td>\n",
       "      <td>499</td>\n",
       "      <td>224</td>\n",
       "    </tr>\n",
       "    <tr>\n",
       "      <th>30025</th>\n",
       "      <td>209</td>\n",
       "      <td>51255</td>\n",
       "      <td>4.5</td>\n",
       "      <td>02/07/2024, 10:19:12</td>\n",
       "      <td>499</td>\n",
       "      <td>489</td>\n",
       "    </tr>\n",
       "    <tr>\n",
       "      <th>72022</th>\n",
       "      <td>463</td>\n",
       "      <td>5378</td>\n",
       "      <td>4.0</td>\n",
       "      <td>02/07/2024, 10:19:12</td>\n",
       "      <td>499</td>\n",
       "      <td>274</td>\n",
       "    </tr>\n",
       "    <tr>\n",
       "      <th>10414</th>\n",
       "      <td>68</td>\n",
       "      <td>266</td>\n",
       "      <td>4.0</td>\n",
       "      <td>02/07/2024, 10:19:12</td>\n",
       "      <td>499</td>\n",
       "      <td>217</td>\n",
       "    </tr>\n",
       "    <tr>\n",
       "      <th>72482</th>\n",
       "      <td>469</td>\n",
       "      <td>329</td>\n",
       "      <td>2.0</td>\n",
       "      <td>02/07/2024, 10:19:12</td>\n",
       "      <td>499</td>\n",
       "      <td>222</td>\n",
       "    </tr>\n",
       "  </tbody>\n",
       "</table>\n",
       "<p>1866 rows × 6 columns</p>\n",
       "</div>"
      ],
      "text/plain": [
       "       userId  movieId  rating             timestamp  user_index  movie_index\n",
       "87135     562     1393     3.5  02/07/2024, 10:19:12         458          493\n",
       "81573     517      594     3.5  02/07/2024, 10:19:12         418          245\n",
       "11057      68     5418     4.5  02/07/2024, 10:19:12          53          367\n",
       "40710     275     1517     3.0  02/07/2024, 10:19:12         220           67\n",
       "19095     122   106782     5.0  02/07/2024, 10:19:12          99          135\n",
       "...       ...      ...     ...                   ...         ...          ...\n",
       "56858     379      339     3.0  02/07/2024, 10:19:12         499          224\n",
       "30025     209    51255     4.5  02/07/2024, 10:19:12         499          489\n",
       "72022     463     5378     4.0  02/07/2024, 10:19:12         499          274\n",
       "10414      68      266     4.0  02/07/2024, 10:19:12         499          217\n",
       "72482     469      329     2.0  02/07/2024, 10:19:12         499          222\n",
       "\n",
       "[1866 rows x 6 columns]"
      ]
     },
     "execution_count": 84,
     "metadata": {},
     "output_type": "execute_result"
    }
   ],
   "source": [
    "X_test"
   ]
  },
  {
   "cell_type": "code",
   "execution_count": 85,
   "id": "7b0dc818-eb29-420f-91b8-19e2c910ffec",
   "metadata": {},
   "outputs": [
    {
     "name": "stdout",
     "output_type": "stream",
     "text": [
      "59/59 [==============================] - 0s 3ms/step\n"
     ]
    }
   ],
   "source": [
    "y_pred = model.predict([X_test.user_index, X_test.movie_index])"
   ]
  },
  {
   "cell_type": "code",
   "execution_count": 86,
   "id": "399b77ff-fc06-4cb6-9036-fec4a61ee7e5",
   "metadata": {},
   "outputs": [
    {
     "data": {
      "text/plain": [
       "array([[4.2992516],\n",
       "       [4.4618335],\n",
       "       [4.406532 ],\n",
       "       [4.6015306],\n",
       "       [3.5569186],\n",
       "       [2.959612 ],\n",
       "       [4.215093 ],\n",
       "       [4.3592825],\n",
       "       [4.3401213],\n",
       "       [4.648692 ],\n",
       "       [4.61309  ],\n",
       "       [4.294754 ],\n",
       "       [4.197741 ],\n",
       "       [4.6440964],\n",
       "       [4.406532 ],\n",
       "       [3.774219 ],\n",
       "       [4.487795 ],\n",
       "       [3.4664543],\n",
       "       [3.8264585],\n",
       "       [3.5428655]], dtype=float32)"
      ]
     },
     "execution_count": 86,
     "metadata": {},
     "output_type": "execute_result"
    }
   ],
   "source": [
    "y_pred[-20:]"
   ]
  }
 ],
 "metadata": {
  "kernelspec": {
   "display_name": "Python 3 (ipykernel)",
   "language": "python",
   "name": "python3"
  },
  "language_info": {
   "codemirror_mode": {
    "name": "ipython",
    "version": 3
   },
   "file_extension": ".py",
   "mimetype": "text/x-python",
   "name": "python",
   "nbconvert_exporter": "python",
   "pygments_lexer": "ipython3",
   "version": "3.10.6"
  }
 },
 "nbformat": 4,
 "nbformat_minor": 5
}
